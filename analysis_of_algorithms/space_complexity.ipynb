{
 "cells": [
  {
   "attachments": {},
   "cell_type": "markdown",
   "metadata": {},
   "source": [
    "# Space Complexity"
   ]
  },
  {
   "attachments": {},
   "cell_type": "markdown",
   "metadata": {},
   "source": [
    "The term Space Complexity is misused for Auxiliary Space at many places. Following are the correct definitions of Auxiliary Space and Space Complexity. \n",
    "\n",
    "Auxiliary Space is the extra space or temporary space used by an algorithm.\n",
    "\n",
    "The space Complexity of an algorithm is the total space taken by the algorithm with respect to the input size. Space complexity includes both Auxiliary space and space used by input. \n",
    "\n",
    "For example, if we want to compare standard sorting algorithms on the basis of space, then Auxiliary Space would be a better criterion than Space Complexity. Merge Sort uses O(n) auxiliary space, Insertion sort, and Heap Sort use O(1) auxiliary space. The space complexity of all these sorting algorithms is O(n) though. \n",
    "\n"
   ]
  },
  {
   "attachments": {},
   "cell_type": "markdown",
   "metadata": {},
   "source": [
    "In time complexity, we talk about order of growth of TIME taken in terms of input size"
   ]
  },
  {
   "attachments": {},
   "cell_type": "markdown",
   "metadata": {},
   "source": [
    "In space complexity, we talk about order of growth of SPACE usage in terms of input size"
   ]
  },
  {
   "cell_type": "code",
   "execution_count": null,
   "metadata": {},
   "outputs": [],
   "source": [
    "# space used - 1 integer variable space which is assumed \n",
    "# to take constant amount of space regardless n = 1 or 100000\n",
    "# Space complexity - Theta(1) or O(1)\n",
    "def getSum(n):\n",
    "    return n*(n+1)/2\n",
    "\n",
    "# Fixed amount of variables regardless of value of n (sum,i,n)\n",
    "# Space complexity - Theta(1) or O(1)\n",
    "def getSum2(n):\n",
    "    sum=0\n",
    "    for i in range(1,n+1):\n",
    "        sum+=i\n",
    "    print(sum)"
   ]
  },
  {
   "cell_type": "code",
   "execution_count": null,
   "metadata": {},
   "outputs": [],
   "source": [
    "# Space - theta(N)\n",
    "# Aux space - theta(1)\n",
    "def listSum(l):\n",
    "    sum=0\n",
    "    for x in l:\n",
    "        sum+=x\n",
    "    print(sum)"
   ]
  },
  {
   "attachments": {},
   "cell_type": "markdown",
   "metadata": {},
   "source": [
    "### Auxiliary Space:\n",
    "Order of growth of extra space req for some computation (space other than input/output)\n",
    "\n",
    "Most of times when we talk about space complexity, we focus on auxiliary space"
   ]
  },
  {
   "attachments": {},
   "cell_type": "markdown",
   "metadata": {},
   "source": [
    "In recursive calls stack space also counts. "
   ]
  },
  {
   "cell_type": "code",
   "execution_count": null,
   "metadata": {},
   "outputs": [],
   "source": [
    "\n",
    "def fun(n):\n",
    "    if n <=0:\n",
    "        return 0 \n",
    "    else:\n",
    "        return n + fun(n-1)\n",
    "\n",
    "# States stored in call stack (i.e n+1) ~ value of n ==> each state needs 1 var space -> theta(N) space\n",
    "# Aux space - theta(N)\n",
    "# Space complexity - theta(N)"
   ]
  },
  {
   "cell_type": "code",
   "execution_count": null,
   "metadata": {},
   "outputs": [],
   "source": [
    "def add(n):\n",
    "  if(n<=0):\n",
    "    return 0\n",
    "  \n",
    "  return n + add(n-1)\n"
   ]
  },
  {
   "attachments": {},
   "cell_type": "markdown",
   "metadata": {},
   "source": [
    "Here each call add a level to the stack :\n",
    "\n",
    "1.  add(4)\n",
    "2.    -> add(3)\n",
    "3.      -> add(2)\n",
    "4.        -> add(1)\n",
    "5.          -> add(0)\n",
    "\n",
    "Each of these calls is added to call stack and takes up actual memory.\n",
    "So it takes O(n) space."
   ]
  },
  {
   "attachments": {},
   "cell_type": "markdown",
   "metadata": {},
   "source": [
    "However, just because you have n calls total doesn’t mean it takes O(n) space.\n",
    "\n"
   ]
  },
  {
   "cell_type": "code",
   "execution_count": null,
   "metadata": {},
   "outputs": [],
   "source": [
    "def addSequence(n):\n",
    "  sum=0\n",
    "  for i in range(0,n):\n",
    "    sum+=pairSum(i,i+1)\n",
    "    \n",
    "  return sum\n",
    "\n",
    "def pairSum(x,y):\n",
    "  return x+y\n",
    "\n"
   ]
  },
  {
   "attachments": {},
   "cell_type": "markdown",
   "metadata": {},
   "source": [
    "There will be roughly O(n) calls to pairSum. However, those calls do not exist simultaneously on the call stack, so you only need O(1) space.\n",
    "\n",
    "Note: It’s necessary to mention that space complexity depends on a variety of things such as the programming language, the compiler, or even the machine running the algorithm."
   ]
  }
 ],
 "metadata": {
  "language_info": {
   "name": "python"
  },
  "orig_nbformat": 4
 },
 "nbformat": 4,
 "nbformat_minor": 2
}
