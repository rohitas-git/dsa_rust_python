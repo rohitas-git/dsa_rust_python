{
 "cells": [
  {
   "attachments": {},
   "cell_type": "markdown",
   "metadata": {},
   "source": [
    "# Analysis of Recursion"
   ]
  },
  {
   "attachments": {},
   "cell_type": "markdown",
   "metadata": {},
   "source": [
    "Understand given an recursive function, how to write recurrence relation to find the time complexity "
   ]
  },
  {
   "cell_type": "code",
   "execution_count": 1,
   "metadata": {},
   "outputs": [],
   "source": [
    "def fun(n):\n",
    "    if n==1:\n",
    "        return\n",
    "    for i in range(n):\n",
    "        print(\"GFG\")\n",
    "    fun(n/2)\n",
    "    fun(n/2)\n",
    "\n",
    "# Recurrence Relation for above:\n",
    "# T(n) = 2*T(n/2) + theta(n); when n > 1\n",
    "# T(1) = theta(1)"
   ]
  },
  {
   "cell_type": "code",
   "execution_count": 2,
   "metadata": {},
   "outputs": [],
   "source": [
    "def fun2(n):\n",
    "    if n==1:\n",
    "        return\n",
    "    print(n)\n",
    "    fun(n-1)\n",
    "    \n",
    "# Recurrence Relation for above:\n",
    "# T(n) = T(n-1) + theta(1); when n > 1\n",
    "# T(1) = theta(1); when n = 1"
   ]
  },
  {
   "attachments": {},
   "cell_type": "markdown",
   "metadata": {},
   "source": [
    "### Methods to calculate T(n)\n"
   ]
  },
  {
   "attachments": {},
   "cell_type": "markdown",
   "metadata": {},
   "source": [
    "\n",
    "## - Substitution Method: \n",
    "We make a guess for the solution and then we use mathematical induction to prove the guess is correct or incorrect. \n",
    "\n",
    "For example consider the recurrence T(n) = 2T(n/2) + n\n",
    "\n",
    "We guess the solution as T(n) = O(nLogn). Now we use induction to prove our guess.\n",
    "\n",
    "We need to prove that T(n) <= cnLogn. We can assume that it is true for values smaller than n.\n",
    "\n",
    "T(n) = 2T(n/2) + n \\\n",
    "     <= 2c(n/2Log(n/2)) + n \\\n",
    "       =  cnLogn - cnLog2 + n \\ \n",
    "       =  cnLogn - cn + n \\\n",
    "    <= cnLogn \\"
   ]
  },
  {
   "attachments": {},
   "cell_type": "markdown",
   "metadata": {},
   "source": [
    "## - Master Method: \n",
    "Master Method is a direct way to get the solution. The master method works only for the following type of recurrences or for recurrences that can be transformed into the following type. \n",
    " \n",
    ">> T(n) = aT(n/b) + f(n) where a >= 1 and b > 1\n",
    "\n",
    "\n",
    "There are the following three cases: \n",
    "\n",
    "If f(n) = O(nc) where c < Logba then T(n) = Θ(nLogba) \\\n",
    "If f(n) = Θ(nc) where c = Logba then T(n) = Θ(ncLog n) \\\n",
    "If f(n) = Ω(nc) where c > Logba then T(n) = Θ(f(n)) \n"
   ]
  },
  {
   "attachments": {},
   "cell_type": "markdown",
   "metadata": {},
   "source": [
    "How does this work? \\\n",
    "The master method is mainly derived from the recurrence tree method. If we draw the recurrence tree of T(n) = aT(n/b) + f(n), we can see that the work done at the root is f(n), and work done at all leaves is Θ(nc) where c is Logba. And the height of the recurrence tree is Logbn "
   ]
  },
  {
   "attachments": {},
   "cell_type": "markdown",
   "metadata": {},
   "source": [
    "In the recurrence tree method, we calculate the total work done. If the work done at leaves is polynomially more, then leaves are the dominant part, and our result becomes the work done at leaves (Case 1). If work done at leaves and root is asymptotically the same, then our result becomes height multiplied by work done at any level (Case 2). If work done at the root is asymptotically more, then our result becomes work done at the root (Case 3). \n",
    "\n",
    "Examples of some standard algorithms whose time complexity can be evaluated using the Master Method \n",
    "\n",
    "Merge Sort: T(n) = 2T(n/2) + Θ(n). It falls in case 2 as c is 1 and Logba] is also 1. So the solution is Θ(n Logn) \n",
    "Binary Search: T(n) = T(n/2) + Θ(1). It also falls in case 2 as c is 0 and Logba is also 0. So the solution is Θ(Logn) \n",
    "Notes: \n",
    "\n",
    "It is not necessary that a recurrence of the form T(n) = aT(n/b) + f(n) can be solved using Master Theorem. The given three cases have some gaps between them. For example, the recurrence T(n) = 2T(n/2) + n/Logn cannot be solved using master method. \n",
    "Case 2 can be extended for f(n) = Θ(ncLogkn) \n",
    "If f(n) = Θ(ncLogkn) for some constant k >= 0 and c = Logba, then T(n) = Θ(ncLogk+1n) \n"
   ]
  },
  {
   "attachments": {},
   "cell_type": "markdown",
   "metadata": {},
   "source": [
    "\n",
    "## - Recursion Tree Method:\n",
    "-- We write non-recursive part as root of tree and recursive paths as children\n",
    "\n",
    "-- We keep expanding children until we see a pattern\n",
    "\n",
    "In this method, we draw a recurrence tree and calculate the time taken by every level of the tree. Finally, we sum the work done at all levels. To draw the recurrence tree, we start from the given recurrence and keep drawing till we find a pattern among levels. The pattern is typically arithmetic or geometric series. \n"
   ]
  },
  {
   "cell_type": "code",
   "execution_count": 3,
   "metadata": {},
   "outputs": [],
   "source": [
    "# Note:Represrent Theta by a constant C \n",
    "\n",
    "# T(n) = 2*T(n/2) + Cn \n",
    "# T(1) = C\n",
    "\n",
    "# >> T(n) = Cn * logN   ( sum of all non-recursive at a particular height * height of the tree )\n",
    "\n",
    "# >> theta(n*logN)"
   ]
  },
  {
   "cell_type": "code",
   "execution_count": 4,
   "metadata": {},
   "outputs": [],
   "source": [
    "# T(n) = 2*T(n-1) + C \n",
    "# T(1) = C\n",
    "\n",
    "# >> T(n) = C*2^n  ( C+ 2C+ 4C + ... 2^n C; apply geometric progression sum forumla )\n",
    "\n",
    "# >> theta(2^n)"
   ]
  },
  {
   "cell_type": "code",
   "execution_count": 5,
   "metadata": {},
   "outputs": [],
   "source": [
    "# T(n) = T(n/2) + C \n",
    "# T(1) = C\n",
    "\n",
    "# >> T(n) = C*logN  ( C + C + C ... logN times)\n",
    "\n",
    "# >> theta(logN)"
   ]
  },
  {
   "cell_type": "code",
   "execution_count": 6,
   "metadata": {},
   "outputs": [],
   "source": [
    "# T(n) = 2*T(n/2) + C \n",
    "# T(1) = C\n",
    "\n",
    "# >> T(n) = C* 2^( log2(N) )  ( C + 2C + 4C ... log2(N) times = C* 2^( log2(N) ) = C* N )\n",
    "\n",
    "# >> theta(N)"
   ]
  },
  {
   "attachments": {},
   "cell_type": "markdown",
   "metadata": {},
   "source": [
    "There are some cases where it becomes difficult to find the exact value by drawing recursion tree completely."
   ]
  },
  {
   "attachments": {},
   "cell_type": "markdown",
   "metadata": {},
   "source": [
    "For example, consider the recurrence relation \n",
    "\n",
    "T(n) = T(n/4) + T(n/2) + cn2\n",
    "\n",
    "            cn2\n",
    "            /      \\\n",
    "      T(n/4)     T(n/2)\n",
    "\n",
    "If we further break down the expression T(n/4) and T(n/2), \n",
    "we get the following recursion tree.\n",
    "\n",
    "                    cn2\n",
    "              /             \\      \n",
    "      c(n2)/16          c(n2)/4\n",
    "   /         \\            /         \\\n",
    "T(n/16)  T(n/8)  T(n/8)    T(n/4) \n",
    "\n",
    "Breaking down further gives us following\n",
    "\n",
    "                       cn2 \n",
    "                /                \\     \n",
    "       c(n2)/16              c(n2)/4\n",
    "    /          \\                 /          \\\n",
    "c(n2)/256  c(n2)/64  c(n2)/64   c(n2)/16\n",
    " /    \\            /    \\      /    \\        /    \\  \n",
    "\n",
    "To know the value of T(n), we need to calculate the sum of tree \n",
    "nodes level by level. If we sum the above tree level by level, \n",
    "\n",
    "we get the following series T(n)  = c(n^2 + 5(n^2)/16 + 25(n^2)/256) + ....\n",
    "The above series is a geometrical progression with a ratio of 5/16.\n",
    "\n",
    "To get an upper bound, we can sum the infinite series. We get the sum as (n2)/(1 - 5/16) which is O(n2)"
   ]
  },
  {
   "cell_type": "code",
   "execution_count": 7,
   "metadata": {},
   "outputs": [],
   "source": [
    "# T(n) = T(n/2) + T(n/4) + Cn \n",
    "# T(1) = C\n",
    "\n",
    "# >> ( 3/4Cn + 3/4Cn + 9/16Cn ... not going to GP after certain terms; which is a problem )\n",
    "# >> Assuming above tree is a full tree; helps in quickly finding an upper bound for this algorithm\n",
    "# >> Then we can sum of above GP to get Big-O for this recursion algo\n",
    "# >> ( 3/4Cn + 3/4Cn + 9/16Cn ... logN times) = O(Cn * 1/(1-3/4) ) = O (N)\n",
    "# >> BigO(N)"
   ]
  },
  {
   "cell_type": "code",
   "execution_count": 8,
   "metadata": {},
   "outputs": [],
   "source": [
    "# Fibonacci Series\n",
    "\n",
    "# T(n) = T(n-1) + T(n-2) + C \n",
    "# T(1) = C\n",
    "\n",
    "# >> ( C + 2C + 4C + 8C ... not going to GP after certain terms; which is a problem )\n",
    "# >> Assuming above tree is a full tree; helps in quickly finding an upper bound for this algorithm\n",
    "# >> Then we can sum of above GP to get Big-O for this recursion algo\n",
    "# >> ( C + 2C + 4C + 8C ... N (max possible height) times) = O(C*2^n) = O(2^n)\n",
    "\n",
    "# theta(2^N)"
   ]
  },
  {
   "attachments": {},
   "cell_type": "markdown",
   "metadata": {},
   "source": [
    "## END\n",
    "There cases in which we can get an exact bound thr recursive tree method.\n",
    "In other cases where tree is not symmetric due to different growth rate of terms, we get an upper bound for this recursive algo by assuming it to be complete tree."
   ]
  }
 ],
 "metadata": {
  "kernelspec": {
   "display_name": "Python 3",
   "language": "python",
   "name": "python3"
  },
  "language_info": {
   "codemirror_mode": {
    "name": "ipython",
    "version": 3
   },
   "file_extension": ".py",
   "mimetype": "text/x-python",
   "name": "python",
   "nbconvert_exporter": "python",
   "pygments_lexer": "ipython3",
   "version": "3.10.9"
  },
  "orig_nbformat": 4
 },
 "nbformat": 4,
 "nbformat_minor": 2
}
