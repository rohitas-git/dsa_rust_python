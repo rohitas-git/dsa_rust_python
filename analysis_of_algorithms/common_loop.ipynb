{
 "cells": [
  {
   "attachments": {},
   "cell_type": "markdown",
   "metadata": {},
   "source": [
    "# Analysis of Common Loops"
   ]
  },
  {
   "attachments": {},
   "cell_type": "markdown",
   "metadata": {},
   "source": [
    "Order of growth:\n",
    "\n",
    "c < loglogN < logN < n^(1/2) < n < n^2 < 2^n < n^n"
   ]
  },
  {
   "cell_type": "code",
   "execution_count": 17,
   "metadata": {},
   "outputs": [],
   "source": [
    "def constantLoop ():\n",
    "    # for i in range(0,100,c):\n",
    "        # some constant work\n",
    "        \n",
    "    i = 0\n",
    "    c = 1 # c is some constant\n",
    "\n",
    "    # iterations: [100/c] -> theta(1)\n",
    "    while i < 100:\n",
    "        i = i + c\n",
    "        \n",
    "    print(\"constant Loop: \\u03F4(1)\")\n"
   ]
  },
  {
   "cell_type": "code",
   "execution_count": 18,
   "metadata": {},
   "outputs": [
    {
     "name": "stdout",
     "output_type": "stream",
     "text": [
      "ϴ(1)\n"
     ]
    }
   ],
   "source": [
    "def reverse_constantLoop ():\n",
    "        # for i in range(100,0,-c):\n",
    "                # some constant work\n",
    "    \n",
    "    i = 100\n",
    "    c = 1 # c is some constant\n",
    "\n",
    "    # iterations: [100/c] -> theta(1)\n",
    "    \n",
    "    while i > 0:\n",
    "        i = i + c\n",
    "\n",
    "print(\"\\u03F4(1)\")"
   ]
  },
  {
   "cell_type": "code",
   "execution_count": 30,
   "metadata": {},
   "outputs": [
    {
     "name": "stdout",
     "output_type": "stream",
     "text": [
      "multiplication loop: ϴ(logN)\n",
      "ϴ(logN)\n"
     ]
    }
   ],
   "source": [
    "def multiplicationLoop (n: int):\n",
    "    i = 1\n",
    "    c = 2\n",
    "    # iterations: c^(k-1) < N -> theta( LOGc(N) )\n",
    "    while i < n:\n",
    "        i = i * c\n",
    "    \n",
    "    print(\"multiplication loop: \\u03F4(logN)\")\n",
    "\n",
    "def divisionLoop (n: int):\n",
    "    i = n\n",
    "    c = 5\n",
    "    # iterations: N > c^(k-1) -> theta( LOGc(N) )\n",
    "    while i > 1:\n",
    "        i = i / c\n",
    "    \n",
    "print(\"\\u03F4(logN)\")"
   ]
  },
  {
   "cell_type": "code",
   "execution_count": 20,
   "metadata": {},
   "outputs": [],
   "source": [
    "def exponentialLoop (n: int):\n",
    "    i = 2\n",
    "    c = 3\n",
    "    # iterations: c^(k-1) < logN -> theta( LOGc(logN) )\n",
    "    while i < n:\n",
    "        i = i ** c\n",
    "    \n",
    "    print(\"exponential loop: \\u03F4(log(logN))\")"
   ]
  },
  {
   "cell_type": "code",
   "execution_count": 21,
   "metadata": {},
   "outputs": [],
   "source": [
    "def additionLoop (n: int):\n",
    "    i = 0\n",
    "    c = 3\n",
    "    # iterations: c^(k-1) < N -> theta(N) )\n",
    "    while i < n:\n",
    "        i = i + c\n",
    "    \n",
    "    print(\"addition loop: \\u03F4(N)\")"
   ]
  },
  {
   "cell_type": "code",
   "execution_count": 22,
   "metadata": {},
   "outputs": [
    {
     "name": "stdout",
     "output_type": "stream",
     "text": [
      "ϴ(N)\n"
     ]
    }
   ],
   "source": [
    "def subsequentLoop (n: int):\n",
    "    i = 0\n",
    "    c = 3\n",
    "    # iterations: k*c < N -> theta(N) \n",
    "    while i < n:\n",
    "        i = i + c\n",
    "        \n",
    "    i = 1\n",
    "    c = 5\n",
    "    # iterations: c^(k-1) < N -> theta( LOGc(N) )\n",
    "    while i < n:\n",
    "        i = i * c\n",
    "        \n",
    "    i = 0\n",
    "    c = 1 \n",
    "    # iterations: k = [100/c] -> theta(1)\n",
    "    while i < 100:\n",
    "        i = i + c\n",
    "    \n",
    "\n",
    "print(\"\\u03F4(N)\")"
   ]
  },
  {
   "cell_type": "code",
   "execution_count": 23,
   "metadata": {},
   "outputs": [
    {
     "name": "stdout",
     "output_type": "stream",
     "text": [
      "ϴ(N logN)\n"
     ]
    }
   ],
   "source": [
    "def nestedLoop (n: int):\n",
    "    i = 0\n",
    "    c = 3\n",
    "    \n",
    "    while i < n:\n",
    "        \n",
    "        j=1\n",
    "        while j < n:\n",
    "            j=j*2\n",
    "            \n",
    "        i = i + c\n",
    "    \n",
    "\n",
    "print(\"\\u03F4(N logN)\")"
   ]
  },
  {
   "cell_type": "code",
   "execution_count": 24,
   "metadata": {},
   "outputs": [
    {
     "name": "stdout",
     "output_type": "stream",
     "text": [
      "ϴ(N²)\n"
     ]
    }
   ],
   "source": [
    "def mixedLoops (n: int):\n",
    "    i = 0\n",
    "    c = 3\n",
    "    \n",
    "    # theta(N*logN)\n",
    "    while i < n:\n",
    "        \n",
    "        j=1\n",
    "        while j < n:\n",
    "            j=j*2\n",
    "            \n",
    "        i = i + c\n",
    "    \n",
    "    # theta(N^2)\n",
    "    while i < n:\n",
    "        \n",
    "        j=1\n",
    "        while j < n:\n",
    "            j=j+2\n",
    "            \n",
    "        i = i + c\n",
    "\n",
    "print(\"\\u03F4(N\\u00b2)\")"
   ]
  },
  {
   "cell_type": "code",
   "execution_count": 25,
   "metadata": {},
   "outputs": [
    {
     "name": "stdout",
     "output_type": "stream",
     "text": [
      "ϴ(M²) + ϴ(N logN)\n"
     ]
    }
   ],
   "source": [
    "def multipleInputLoops (n: int, m: int):\n",
    "    i = 0\n",
    "    c = 3\n",
    "    \n",
    "    # theta(N*logN)\n",
    "    while i < n:\n",
    "        \n",
    "        j=1\n",
    "        while j < n:\n",
    "            j=j*2\n",
    "            \n",
    "        i = i + c\n",
    "    \n",
    "    # theta(M^2)\n",
    "    while i < m:\n",
    "        \n",
    "        j=1\n",
    "        while j < m:\n",
    "            j=j+2\n",
    "            \n",
    "        i = i + c\n",
    "\n",
    "print(\"\\u03F4(M\\u00b2) + \\u03F4(N logN)\")"
   ]
  },
  {
   "cell_type": "code",
   "execution_count": 33,
   "metadata": {},
   "outputs": [
    {
     "name": "stdout",
     "output_type": "stream",
     "text": [
      "constant Loop: ϴ(1)\n",
      "multiplication loop: ϴ(logN)\n",
      "addition loop: ϴ(N)\n",
      "exponential loop: ϴ(log(logN))\n"
     ]
    }
   ],
   "source": [
    "n = 5 \n",
    "constantLoop()  # while i < 100: i = i + c\n",
    "exponentialLoop(n) # while i < n: i = i ** c\n",
    "multiplicationLoop(n)  # while i < n: i = i * c\n",
    "additionLoop(n)  # while i < n: i = i + c"
   ]
  }
 ],
 "metadata": {
  "kernelspec": {
   "display_name": "Python 3",
   "language": "python",
   "name": "python3"
  },
  "language_info": {
   "codemirror_mode": {
    "name": "ipython",
    "version": 3
   },
   "file_extension": ".py",
   "mimetype": "text/x-python",
   "name": "python",
   "nbconvert_exporter": "python",
   "pygments_lexer": "ipython3",
   "version": "3.10.9"
  },
  "orig_nbformat": 4
 },
 "nbformat": 4,
 "nbformat_minor": 2
}
