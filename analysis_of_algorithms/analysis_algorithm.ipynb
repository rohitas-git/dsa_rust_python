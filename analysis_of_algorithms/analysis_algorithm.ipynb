{
 "cells": [
  {
   "cell_type": "code",
   "execution_count": null,
   "metadata": {},
   "outputs": [],
   "source": [
    "# Sum of n natural number\n",
    "\n",
    "def sumNaturalNumber(n: int):\n",
    "    print( int(n*(n+1)/2) )\n",
    "\n",
    "def sumNaturalNumber2(n: int):\n",
    "    sum=0\n",
    "    for i in range(1,n+1):\n",
    "        sum+=i\n",
    "    print(sum)\n",
    "    \n",
    "def sumNaturalNumber3(n: int):\n",
    "    sum=0\n",
    "    for i in range(1,n+1):\n",
    "        for j in range(i):\n",
    "            sum+=1\n",
    "    print(sum)\n",
    "\n",
    "\n",
    "a = 5\n",
    "sumNaturalNumber(a)\n",
    "sumNaturalNumber2(a)\n",
    "sumNaturalNumber3(a)"
   ]
  }
 ],
 "metadata": {
  "language_info": {
   "name": "python"
  },
  "orig_nbformat": 4
 },
 "nbformat": 4,
 "nbformat_minor": 2
}
